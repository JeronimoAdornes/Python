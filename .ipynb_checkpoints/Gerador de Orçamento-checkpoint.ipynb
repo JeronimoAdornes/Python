{
 "cells": [
  {
   "cell_type": "markdown",
   "id": "f3f86716",
   "metadata": {},
   "source": [
    "# Meu primeiro código Python"
   ]
  },
  {
   "cell_type": "code",
   "execution_count": 3,
   "id": "ac97727b",
   "metadata": {},
   "outputs": [
    {
     "name": "stdout",
     "output_type": "stream",
     "text": [
      "Orçamento gerado com Sucesso!\n",
      "Semana do Python na prática\n",
      "Eu quero muito aprender Python!\n"
     ]
    }
   ],
   "source": [
    "print(\"Orçamento gerado com Sucesso!\")\n",
    "print(\"Semana do Python na prática\")\n",
    "print(\"Eu quero muito aprender Python!\")"
   ]
  },
  {
   "cell_type": "markdown",
   "id": "3c2c852d",
   "metadata": {},
   "source": [
    "# Entrada de Dados"
   ]
  },
  {
   "cell_type": "code",
   "execution_count": 6,
   "id": "9efff5c1",
   "metadata": {},
   "outputs": [
    {
     "name": "stdout",
     "output_type": "stream",
     "text": [
      "Digite a descrição do projeto: Desenvolbimento Web\n"
     ]
    },
    {
     "data": {
      "text/plain": [
       "'Desenvolbimento Web'"
      ]
     },
     "execution_count": 6,
     "metadata": {},
     "output_type": "execute_result"
    }
   ],
   "source": [
    "input(\"Digite a descrição do projeto: \")"
   ]
  },
  {
   "cell_type": "code",
   "execution_count": null,
   "id": "b975d99c",
   "metadata": {},
   "outputs": [],
   "source": []
  },
  {
   "cell_type": "code",
   "execution_count": null,
   "id": "d65471f1",
   "metadata": {},
   "outputs": [],
   "source": []
  }
 ],
 "metadata": {
  "kernelspec": {
   "display_name": "Python 3 (ipykernel)",
   "language": "python",
   "name": "python3"
  },
  "language_info": {
   "codemirror_mode": {
    "name": "ipython",
    "version": 3
   },
   "file_extension": ".py",
   "mimetype": "text/x-python",
   "name": "python",
   "nbconvert_exporter": "python",
   "pygments_lexer": "ipython3",
   "version": "3.9.13"
  }
 },
 "nbformat": 4,
 "nbformat_minor": 5
}
